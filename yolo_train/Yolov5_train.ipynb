{
  "cells": [
    {
      "cell_type": "markdown",
      "source": [
        "# 객체탐지 모델의 훈련 코드\n",
        "먼저 객체 탐지 모델은 실시간성을 감안하여 yolo5s.pt 모델에 전이학습을 진행\n",
        "\n",
        "훈련은 구글 Colab GPU 가속기를 활용하여 진행"
      ],
      "metadata": {
        "id": "O922TSEj-3jJ"
      }
    },
    {
      "cell_type": "markdown",
      "metadata": {
        "id": "AHVQQGr-b9NP"
      },
      "source": [
        "구글드라이브 마운트"
      ]
    },
    {
      "cell_type": "code",
      "execution_count": null,
      "metadata": {
        "id": "xlAB4j8Laf5y"
      },
      "outputs": [],
      "source": [
        "from google.colab import drive\n",
        "drive.mount('/content/drive')"
      ]
    },
    {
      "cell_type": "markdown",
      "source": [
        "roboflow를 통한 증강된 데이터 셋 내려받기"
      ],
      "metadata": {
        "id": "Ldj3DqQT1-GY"
      }
    },
    {
      "cell_type": "code",
      "source": [],
      "metadata": {
        "id": "uGfB4zgI_PiH"
      },
      "execution_count": null,
      "outputs": []
    },
    {
      "cell_type": "code",
      "source": [
        "!pip install roboflow\n",
        "\n",
        "from roboflow import Roboflow\n",
        "rf = Roboflow(api_key=\"EQbyYlzaE664A9dO3sPO\")\n",
        "project = rf.workspace(\"zc-d7qnv\").project(\"date-knpgl\")\n",
        "dataset = project.version(3).download(\"yolov5\")"
      ],
      "metadata": {
        "id": "dcddZghUhA84"
      },
      "execution_count": null,
      "outputs": []
    },
    {
      "cell_type": "markdown",
      "metadata": {
        "id": "Js4CH1Iqb96f"
      },
      "source": [
        "yolo model 다운 및 라이브러리 설치"
      ]
    },
    {
      "cell_type": "code",
      "execution_count": null,
      "metadata": {
        "id": "C2lECsGXbWaX"
      },
      "outputs": [],
      "source": [
        "!git clone https://github.com/ultralytics/yolov5.git"
      ]
    },
    {
      "cell_type": "code",
      "source": [
        "%cat /content/dataset/data.yaml"
      ],
      "metadata": {
        "id": "-NSdugxm4Dw4"
      },
      "execution_count": null,
      "outputs": []
    },
    {
      "cell_type": "code",
      "execution_count": null,
      "metadata": {
        "id": "usOZq5IBbWce"
      },
      "outputs": [],
      "source": [
        "%cd /content/yolov5\n",
        "!pip install -r requirements.txt"
      ]
    },
    {
      "cell_type": "markdown",
      "source": [
        "train, val data split"
      ],
      "metadata": {
        "id": "LSmQ3jeE7NAM"
      }
    },
    {
      "cell_type": "code",
      "source": [
        "%cd /\n",
        "import yaml\n",
        "from glob import glob\n",
        "from sklearn.model_selection import train_test_split\n",
        "\n",
        "img_list = glob('/content/dataset/train/images/*.jpg')\n",
        "train_img_list, val_img_list = train_test_split(img_list, test_size=0.2, random_state=2000)\n",
        "\n",
        "with open('/content/dataset/train.txt', 'w') as f:\n",
        "  f.write('\\n'.join(train_img_list) + '\\n')\n",
        "\n",
        "with open('/content/dataset/val.txt', 'w') as f:\n",
        "  f.write('\\n'.join(val_img_list) + '\\n')\n",
        "\n",
        "with open('/content/dataset/data.yaml', 'r') as f:\n",
        "  data = yaml.safe_load(f)\n",
        "\n",
        "data['train'] = '/content/dataset/train.txt'\n",
        "data['val'] = '/content/dataset/val.txt'\n",
        "\n",
        "with open('/content/dataset/data.yaml', 'w') as f:\n",
        "  yaml.dump(data, f)"
      ],
      "metadata": {
        "colab": {
          "base_uri": "https://localhost:8080/"
        },
        "id": "YoUkuL2o4Zy9",
        "outputId": "111b36e9-95d7-4ee0-d917-ba4735253b43"
      },
      "execution_count": 18,
      "outputs": [
        {
          "output_type": "stream",
          "name": "stdout",
          "text": [
            "/\n"
          ]
        }
      ]
    },
    {
      "cell_type": "markdown",
      "source": [
        "trian code"
      ],
      "metadata": {
        "id": "l7oHke1i7SS8"
      }
    },
    {
      "cell_type": "code",
      "source": [
        "%cd /content/yolov5/\n",
        "\n",
        "!python train.py --img 416 --batch 16 --epochs 200 --data /content/dataset/data.yaml --cfg ./models/yolov5s.yaml --weights yolov5s.pt --name expiry_date_result"
      ],
      "metadata": {
        "id": "X9i_N8Yc5Yk9"
      },
      "execution_count": null,
      "outputs": []
    },
    {
      "cell_type": "markdown",
      "source": [
        "test code"
      ],
      "metadata": {
        "id": "hKkOMdWX7U2G"
      }
    },
    {
      "cell_type": "code",
      "source": [
        "%cd /content/drive/MyDrive/yolov5\n",
        "\n",
        "!python detect.py --weights /content/yolov5/runs/train/expiry_date_result/weights/best.pt --source '/content/drive/MyDrive/test.jpg'"
      ],
      "metadata": {
        "id": "ZMFuJySo6mlg"
      },
      "execution_count": null,
      "outputs": []
    }
  ],
  "metadata": {
    "accelerator": "GPU",
    "colab": {
      "provenance": []
    },
    "gpuClass": "standard",
    "kernelspec": {
      "display_name": "Python 3",
      "name": "python3"
    },
    "language_info": {
      "name": "python"
    }
  },
  "nbformat": 4,
  "nbformat_minor": 0
}